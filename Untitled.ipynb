{
 "cells": [
  {
   "cell_type": "code",
   "execution_count": null,
   "metadata": {},
   "outputs": [],
   "source": [
    "from sklearn.feature_extraction.text import TfidfVectorizer\n",
    "import pandas as pd\n",
    "with open('train.dat','r') as f:\n",
    "        df1 = pd.DataFrame(l.split(\"\\t\") for l in f) \n",
    "        newcols = {0: 'SentimentClass',1: 'Review',}\n",
    "        df1.rename(columns=newcols, inplace=True)\n",
    "        df1[\"SentimentClass\"] = df1[\"SentimentClass\"].apply(lambda x:1 if x==\"+1\" else -1)\n",
    "\n",
    "with open('test.dat','r') as f:\n",
    "        df2 = pd.DataFrame(l for l in f) \n",
    "        newcols = {0: 'Review',}\n",
    "        df2.rename(columns=newcols, inplace=True)\n",
    "        df2.index = df2.index + 25000\n",
    "        \n",
    "\n",
    "        \n"
   ]
  },
  {
   "cell_type": "code",
   "execution_count": null,
   "metadata": {},
   "outputs": [],
   "source": [
    "df3 = pd.DataFrame(df1[\"Review\"])\n",
    "df4 = pd.DataFrame(df2[\"Review\"])\n",
    "df5 = df3.append(df4)\n"
   ]
  },
  {
   "cell_type": "code",
   "execution_count": 145,
   "metadata": {},
   "outputs": [
    {
     "name": "stdout",
     "output_type": "stream",
     "text": [
      "(50000, 9892)\n"
     ]
    }
   ],
   "source": [
    "vectorizer = TfidfVectorizer( stop_words = 'english', ngram_range=(1, 1), min_df = 0.001)\n",
    "features = vectorizer.fit_transform(df5[\"Review\"])\n",
    "print features.shape"
   ]
  },
  {
   "cell_type": "code",
   "execution_count": 142,
   "metadata": {},
   "outputs": [],
   "source": [
    "yu = features[25000:50000].dot(features[0:25000].T)"
   ]
  },
  {
   "cell_type": "code",
   "execution_count": 143,
   "metadata": {},
   "outputs": [
    {
     "name": "stdout",
     "output_type": "stream",
     "text": [
      "end of computation\n",
      "end\n"
     ]
    }
   ],
   "source": [
    "classification_list=[]\n",
    "for row in yu:\n",
    "    Similarity_Scores = {}\n",
    "    list_of_Scores = []\n",
    "    inter = row.todense().tolist()\n",
    "    Similarity_Scores[0] = list(enumerate(inter[0]))\n",
    "    classification=\"\"\n",
    "    knnscore=0\n",
    "    sortedSimilarityScores = sorted(Similarity_Scores[0], key=lambda x: x[1],reverse=True)\n",
    "    for df_index,cosineSimilarity in sortedSimilarityScores[0:40]:\n",
    "            if cosineSimilarity==0:\n",
    "                break\n",
    "            else:\n",
    "                weighted_classification = (df1.loc[df_index, 'SentimentClass'])/(cosineSimilarity*cosineSimilarity)    \n",
    "                knnscore += weighted_classification\n",
    "    classification_list.append(knnscore)\n",
    "print (\"end of computation\")    \n",
    "with open('format.dat', 'w') as f:\n",
    "        for item in classification_list:\n",
    "            if item>0:\n",
    "                f.write('+1\\n')\n",
    "            elif item ==0:\n",
    "                roption = [\"+1\",\"-1\"]\n",
    "                ranchoice = random.choice(roption)\n",
    "                f.write(ranchoice+'\\n')\n",
    "            else:\n",
    "                 f.write('-1\\n')\n",
    "            f.close\n",
    "print (\"end\")"
   ]
  },
  {
   "cell_type": "code",
   "execution_count": 144,
   "metadata": {},
   "outputs": [
    {
     "data": {
      "text/plain": [
       "25000"
      ]
     },
     "execution_count": 144,
     "metadata": {},
     "output_type": "execute_result"
    }
   ],
   "source": [
    "len(classification_list)"
   ]
  },
  {
   "cell_type": "code",
   "execution_count": null,
   "metadata": {
    "collapsed": true
   },
   "outputs": [],
   "source": []
  }
 ],
 "metadata": {
  "kernelspec": {
   "display_name": "Python 2",
   "language": "python",
   "name": "python2"
  },
  "language_info": {
   "codemirror_mode": {
    "name": "ipython",
    "version": 2
   },
   "file_extension": ".py",
   "mimetype": "text/x-python",
   "name": "python",
   "nbconvert_exporter": "python",
   "pygments_lexer": "ipython2",
   "version": "2.7.13"
  }
 },
 "nbformat": 4,
 "nbformat_minor": 2
}
